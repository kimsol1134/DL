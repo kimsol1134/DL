{
 "cells": [
  {
   "cell_type": "code",
   "execution_count": 8,
   "metadata": {},
   "outputs": [
    {
     "name": "stdout",
     "output_type": "stream",
     "text": [
      "Requirement already satisfied: opencv-python in /Library/Frameworks/Python.framework/Versions/3.12/lib/python3.12/site-packages (4.10.0.84)\n",
      "Requirement already satisfied: numpy>=1.21.2 in /Library/Frameworks/Python.framework/Versions/3.12/lib/python3.12/site-packages (from opencv-python) (1.26.4)\n",
      "Note: you may need to restart the kernel to use updated packages.\n"
     ]
    }
   ],
   "source": [
    "pip install opencv-python"
   ]
  },
  {
   "cell_type": "code",
   "execution_count": 9,
   "metadata": {},
   "outputs": [],
   "source": [
    "from tensorflow import keras\n",
    "from keras import layers, Input\n",
    "from keras.datasets import cifar10\n",
    "import cv2\n",
    "import numpy as np"
   ]
  },
  {
   "cell_type": "code",
   "execution_count": 10,
   "metadata": {},
   "outputs": [],
   "source": [
    "def load_cifar10_data(img_rows, img_cols):\n",
    "    (x_train, y_train), (x_test, y_test) = cifar10.load_data()\n",
    "    x_train = x_train[:2000, :, :]\n",
    "    y_train = y_train[:2000]\n",
    "\n",
    "    x_test = x_test[:500, :, :, :]\n",
    "    y_test = y_test[:500]\n",
    "\n",
    "    x_train = np.array([cv2.resize(img, (img_rows, img_cols)) for img in x_train])\n",
    "    x_test = np.array([cv2.resize(img, (img_rows, img_cols)) for img in x_test])\n",
    "\n",
    "    x_train = x_train.astype('float32')\n",
    "    x_test = x_test.astype('float32')\n",
    "\n",
    "    x_train = x_train / 255.0\n",
    "    x_test = x_test / 255.0\n",
    "\n",
    "    return x_train, y_train, x_test, y_test\n",
    "\n",
    "x_train, y_train, x_test, y_test = load_cifar10_data(224,224)\n",
    "img_input = Input(shape=(224,224,3))"
   ]
  },
  {
   "cell_type": "code",
   "execution_count": 11,
   "metadata": {},
   "outputs": [],
   "source": [
    "VGG16 = layers.Conv2D(64,(3,3), activation='relu',\n",
    "                      padding='same')(img_input)\n",
    "VGG16 = layers.Conv2D(64, (3,3), activation='relu',\n",
    "                      padding='same')(VGG16)\n",
    "VGG16 = layers.MaxPooling2D((2,2), strides =(2,2))(VGG16)\n",
    "VGG16 = layers.Conv2D(128,(3,3),activation='relu',\n",
    "                      padding='same')(VGG16)\n",
    "VGG16 = layers.Conv2D(128,(3,3),activation='relu',\n",
    "                      padding='same')(VGG16)\n",
    "VGG16 = layers.MaxPooling2D((2,2), strides=(2,2))(VGG16)\n",
    "VGG16 = layers.Conv2D(\n",
    "    256, (3,3), activation='relu',padding='same')(VGG16)\n",
    "VGG16 = layers.Conv2D(\n",
    "    256, (3,3), activation='relu',padding='same')(VGG16)\n",
    "VGG16 = layers.Conv2D(\n",
    "    256, (3,3), activation='relu',padding='same')(VGG16)\n",
    "VGG16 = layers.MaxPooling2D((2,2), strides=(2,2))(VGG16)\n",
    "VGG16 = layers.Conv2D(\n",
    "    512, (3,3), activation='relu', padding='same')(VGG16)\n",
    "VGG16 = layers.Conv2D(\n",
    "    512, (3,3), activation='relu', padding='same')(VGG16)\n",
    "VGG16 = layers.Conv2D(\n",
    "    512, (3,3), activation='relu', padding='same')(VGG16)\n",
    "VGG16 = layers.MaxPooling2D((2,2), strides=(2,2))(VGG16)\n",
    "VGG16 = layers.Conv2D(\n",
    "    512, (3,3), activation='relu', padding='same')(VGG16)\n",
    "VGG16 = layers.Conv2D(\n",
    "    512, (3,3), activation='relu', padding='same')(VGG16)\n",
    "VGG16 = layers.Conv2D(\n",
    "    512, (3,3), activation='relu', padding='same')(VGG16)\n",
    "VGG16 = layers.MaxPooling2D((2,2), strides=(2,2))(VGG16)\n",
    "VGG16 = layers.Flatten()(VGG16)\n",
    "VGG16 = layers.Dense(4096, activation='relu')(VGG16)\n",
    "VGG16 = layers.Dense(4096, activation='relu')(VGG16)\n",
    "VGG16 = layers.Dense(10, activation='softmax')(VGG16)\n",
    "model = keras.Model(inputs=img_input, outputs=VGG16)"
   ]
  },
  {
   "cell_type": "code",
   "execution_count": 14,
   "metadata": {},
   "outputs": [
    {
     "name": "stdout",
     "output_type": "stream",
     "text": [
      "Epoch 1/3\n",
      "\u001b[1m63/63\u001b[0m \u001b[32m━━━━━━━━━━━━━━━━━━━━\u001b[0m\u001b[37m\u001b[0m \u001b[1m704s\u001b[0m 11s/step - accuracy: 0.1034 - loss: 2.3423\n",
      "Epoch 2/3\n",
      "\u001b[1m63/63\u001b[0m \u001b[32m━━━━━━━━━━━━━━━━━━━━\u001b[0m\u001b[37m\u001b[0m \u001b[1m696s\u001b[0m 11s/step - accuracy: 0.1129 - loss: 2.3018\n",
      "Epoch 3/3\n",
      "\u001b[1m63/63\u001b[0m \u001b[32m━━━━━━━━━━━━━━━━━━━━\u001b[0m\u001b[37m\u001b[0m \u001b[1m694s\u001b[0m 11s/step - accuracy: 0.1190 - loss: 2.3021\n"
     ]
    },
    {
     "data": {
      "text/plain": [
       "<keras.src.callbacks.history.History at 0x3224b9850>"
      ]
     },
     "execution_count": 14,
     "metadata": {},
     "output_type": "execute_result"
    }
   ],
   "source": [
    "model.compile(optimizer='adam',\n",
    "              loss='sparse_categorical_crossentropy',\n",
    "              metrics=['accuracy'])\n",
    "model.fit(x_train, y_train, epochs=3, verbose=1)"
   ]
  },
  {
   "cell_type": "code",
   "execution_count": 15,
   "metadata": {},
   "outputs": [
    {
     "name": "stdout",
     "output_type": "stream",
     "text": [
      "\u001b[1m16/16\u001b[0m \u001b[32m━━━━━━━━━━━━━━━━━━━━\u001b[0m\u001b[37m\u001b[0m \u001b[1m49s\u001b[0m 3s/step - accuracy: 0.0773 - loss: 2.3018\n",
      "테스트 정확도 : 0.07999999821186066\n"
     ]
    }
   ],
   "source": [
    "score = model.evaluate(x_test, y_test)\n",
    "print('테스트 정확도 :', score[1])"
   ]
  }
 ],
 "metadata": {
  "kernelspec": {
   "display_name": "Python 3",
   "language": "python",
   "name": "python3"
  },
  "language_info": {
   "codemirror_mode": {
    "name": "ipython",
    "version": 3
   },
   "file_extension": ".py",
   "mimetype": "text/x-python",
   "name": "python",
   "nbconvert_exporter": "python",
   "pygments_lexer": "ipython3",
   "version": "3.12.5"
  }
 },
 "nbformat": 4,
 "nbformat_minor": 2
}
