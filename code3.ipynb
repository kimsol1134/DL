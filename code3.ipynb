{
 "cells": [
  {
   "cell_type": "markdown",
   "metadata": {},
   "source": [
    "[1] 자동 미분"
   ]
  },
  {
   "cell_type": "code",
   "execution_count": null,
   "metadata": {},
   "outputs": [],
   "source": [
    "import tensorflow as tf\n",
    "\n",
    "x1 = tf.Variable(3.)\n",
    "x2 = tf.Variable(1., trainable=False)\n",
    "with tf.GradientTape() as t:\n",
    "    t.watch(x2)\n",
    "    y = (x1 + 2 * x2) ** 2\n",
    "dy_dx = t.gradient(y, [x1, x2])\n",
    "print(f'dy/dx1 = {dy_dx[0]}')\n",
    "print(f'dy/dx2 = {dy_dx[1]}')\n"
   ]
  },
  {
   "cell_type": "markdown",
   "metadata": {},
   "source": [
    "[2] 학습표본 집합 및 가중치와 바이어스 등 정의"
   ]
  },
  {
   "cell_type": "code",
   "execution_count": null,
   "metadata": {},
   "outputs": [],
   "source": [
    "import numpy as np # 필요한 패키지 불러오기\n",
    "\n",
    "x = tf.constant([1.,3.,5.,7.])\n",
    "y = tf.constant([2.,3.,4.,5.])\n",
    "w = tf.Variable(1.)\n",
    "b = tf.Variable(0.5)\n",
    "learning_rate = 0.01\n",
    "epochs = 1000"
   ]
  },
  {
   "cell_type": "markdown",
   "metadata": {},
   "source": [
    "[3] 학습 단계의 처리 함수 정릐"
   ]
  },
  {
   "cell_type": "code",
   "execution_count": null,
   "metadata": {},
   "outputs": [],
   "source": [
    "def train_step(x, y):\n",
    "    with tf.GradientTape() as t: #with 문 안에 있는 코드블록이 GradientTape가 추적하는 범위\n",
    "        y_hat = w * x + b\n",
    "        loss = (y_hat - y) ** 2\n",
    "    grads = t.gradient(loss, [w,b])\n",
    "    w.assign_sub(learning_rate * grads[0])\n",
    "    b.assign_sub(learning_rate * grads[1])\n"
   ]
  },
  {
   "cell_type": "markdown",
   "metadata": {},
   "source": [
    "[4] 학습표본 집합에 대한 반복 학습"
   ]
  },
  {
   "cell_type": "code",
   "execution_count": null,
   "metadata": {},
   "outputs": [],
   "source": [
    "for i in range(epochs):\n",
    "    for k in range(len(y)):\n",
    "        train_step(x[k], y[k])"
   ]
  },
  {
   "cell_type": "markdown",
   "metadata": {},
   "source": [
    "[5] 학습된 파라미터 출력"
   ]
  },
  {
   "cell_type": "code",
   "execution_count": null,
   "metadata": {},
   "outputs": [],
   "source": [
    "print('w: {:8.5f},    b: {:8.5f}'.format(w.numpy(), b.numpy()))"
   ]
  },
  {
   "cell_type": "markdown",
   "metadata": {},
   "source": [
    "[6] 학습된 파라미터를 이용한 모델 실행"
   ]
  },
  {
   "cell_type": "code",
   "execution_count": null,
   "metadata": {},
   "outputs": [],
   "source": [
    "f = 'x: {:8.5f} --> y:{:8.5f}'\n",
    "for k in range(len(y)):\n",
    "    y_hat = w * x[k] + b\n",
    "    print(f.format(x[k].numpy(), y_hat.numpy()))"
   ]
  }
 ],
 "metadata": {
  "language_info": {
   "name": "python"
  }
 },
 "nbformat": 4,
 "nbformat_minor": 2
}
