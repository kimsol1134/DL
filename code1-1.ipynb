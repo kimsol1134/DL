{
 "cells": [
  {
   "cell_type": "markdown",
   "metadata": {},
   "source": [
    "[1] 필요한 패키지 불러오기"
   ]
  },
  {
   "cell_type": "code",
   "execution_count": null,
   "metadata": {},
   "outputs": [],
   "source": [
    "import matplolib.pyplot as plt\n",
    "import numpy as np\n",
    "from sklearn.datasets import load_iris"
   ]
  },
  {
   "cell_type": "markdown",
   "metadata": {},
   "source": [
    "[2] 데이터 준비 함수 정의하기"
   ]
  },
  {
   "cell_type": "code",
   "execution_count": null,
   "metadata": {},
   "outputs": [],
   "source": [
    "def prepare_data(target) :\n",
    "    iris = load_iris() \n",
    "    X_tr = iris.data[:, 2:] # 4개의 특징 중 꽃잎의 길이와 폭 선택\n",
    "    labels = iris.target_names # iris data가 sklearn.datasets.data 형태여서 target_naems라는 것이 정의되어있음\n",
    "    y = iris.target\n",
    "\n",
    "    # 학습 표본의 레이블 지정 - target에 지정된 레이블이면 1, 그 외는 0\n",
    "    y_tr = []\n",
    "    for i in range(150) : # iris data 갯수 150\n",
    "        y_tr.append(labels[y[i]] == target) \n",
    "        y_tr = np.array(y_tr, dtype=int)\n",
    "        return X_tr, y_tr ['(1) '+target, '(0) the others']"
   ]
  },
  {
   "cell_type": "markdown",
   "metadata": {},
   "source": [
    "[3] 활성함수 - 단위 계단 함수"
   ]
  },
  {
   "cell_type": "code",
   "execution_count": null,
   "metadata": {},
   "outputs": [],
   "source": [
    "def step(x) :\n",
    "    return int(x >= 0)"
   ]
  },
  {
   "cell_type": "markdown",
   "metadata": {},
   "source": [
    "[4] 퍼셉트론 클래스 선언"
   ]
  },
  {
   "cell_type": "markdown",
   "metadata": {},
   "source": [
    "인스턴스(instance)는 클래스(class)로부터 생성된 구체적인 객체(object)를 의미합니다. 객체 지향 프로그래밍(OOP, Object-Oriented Programming)에서 클래스는 객체를 생성하기 위한 청사진 또는 설계도 역할을 하며, 인스턴스는 그 클래스를 기반으로 생성된 실제 데이터 구조입니다.\n",
    "\n",
    "클래스와 인스턴스의 차이\n",
    "\n",
    "\t•\t클래스(Class): 클래스는 객체의 구조와 행동을 정의하는 틀 또는 템플릿입니다. 클래스는 속성(데이터, 변수)과 메서드(함수)를 포함할 수 있으며, 이러한 속성과 메서드는 모든 인스턴스에 공통적으로 적용됩니다.\n",
    "\t•\t인스턴스(Instance): 인스턴스는 클래스를 기반으로 생성된 실제 객체입니다. 클래스로부터 만들어진 인스턴스는 클래스에 정의된 속성과 메서드를 물려받아 사용할 수 있습니다. 인스턴스는 고유의 데이터(속성 값)를 가질 수 있으며, 이는 같은 클래스의 다른 인스턴스와 다를 수 있습니다.\n",
    "\n",
    "클래스와 인스턴스의 관계\n",
    "\n",
    "클래스를 집의 설계도라고 생각하고 인스턴스를 그 설계도를 바탕으로 지은 집이라고 생각할 수 있습니다.\n",
    "\n",
    "\t•\t클래스 = 설계도: 설계도는 집을 어떻게 지을지에 대한 지침을 제공합니다.\n",
    "\t•\t인스턴스 = 집: 설계도를 바탕으로 실제로 지어진 집은 설계도에 따라 지어졌지만, 물리적으로 존재하는 개별적인 객체입니다.\n"
   ]
  },
  {
   "cell_type": "code",
   "execution_count": null,
   "metadata": {},
   "outputs": [],
   "source": [
    "class Perceptron() :\n",
    "    def __init__(self, dim, activation) :\n",
    "        rnd = np.random.default_rng() #rng(random number generator) 난수생성기 생성\n",
    "        self.dim = dim\n",
    "        self.activation = activation\n",
    "        # 가중치(w)와 바이어스 (b)를 He normal 방식으로 초기화\n",
    "        self.w = rnd.normal(scale = np.sqrt(2.0 / dim), size = dim)\n",
    "        self.b = rnd.normal(scale = np.sqrt(2.0 / dim))\n",
    "\n",
    "    def printW(self):\n",
    "        for i inrange(self.dim) :\n",
    "            print('  w{} = {:6.3f}'.format(i+1, self.w[i]), end='') # {:6.3f} 소수점 세 자리까지 출력, 총 6칸을 확보, end=''는 출력 후 줄 바꿈을 하지 않음\n",
    "        print('  b = {:6.3f}'.format(self.b))\n",
    "    \n",
    "    def predict(self, x): # numpy 배열 x에 저장된 표본의 출력 계산\n",
    "        return np.array([self.activation(np.dot(self.w,x[i]) + self.b)\n",
    "                         for i in range(len(x))]) #활성화함수(wx+b)\n",
    "    \n",
    "    def fit(self, X, y, N, epochs, eta=0.01) :\n",
    "        # 학습표본의 인덱스를 무작위 순서로 섞음\n",
    "        idx = list(range(N))\n",
    "        np.random.shuffle(idx)\n",
    "        X = np.array([X[idx[i]] for i in range(N)])\n",
    "        y = np.array([y[idx[i]] for i in range(N)])\n",
    "\n",
    "        f = 'Epochs = {:4d}   Loss = {:8.5f}'\n",
    "        print('w의 초깃값  ', end='')\n",
    "        self.printW()\n",
    "        for j in range(epochs) :\n",
    "            for i in range(N):\n",
    "                #x[i]에 대한 출력 오차 계산\n",
    "                delta = self.predict([X[i]])[0] - y[i]\n",
    "                self.w -= eta * delta * X[i]\n",
    "                self.b -= eta * delta \n",
    "            # 학습 과정 출력\n",
    "            if j <10 or (j+1) % == 0 :\n",
    "                loss = self.predict(X) - y\n",
    "                loss = (loss * loss).sum() / N\n",
    "                print(f.format(j+1, loss), end='')\n",
    "                self.printW()"
   ]
  },
  {
   "cell_type": "code",
   "execution_count": null,
   "metadata": {},
   "outputs": [],
   "source": []
  },
  {
   "cell_type": "code",
   "execution_count": null,
   "metadata": {},
   "outputs": [],
   "source": []
  },
  {
   "cell_type": "code",
   "execution_count": null,
   "metadata": {},
   "outputs": [],
   "source": []
  },
  {
   "cell_type": "code",
   "execution_count": null,
   "metadata": {},
   "outputs": [],
   "source": []
  },
  {
   "cell_type": "code",
   "execution_count": null,
   "metadata": {},
   "outputs": [],
   "source": []
  },
  {
   "cell_type": "code",
   "execution_count": null,
   "metadata": {},
   "outputs": [],
   "source": []
  },
  {
   "cell_type": "code",
   "execution_count": null,
   "metadata": {},
   "outputs": [],
   "source": []
  }
 ],
 "metadata": {
  "language_info": {
   "name": "python"
  }
 },
 "nbformat": 4,
 "nbformat_minor": 2
}
